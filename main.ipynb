{
 "cells": [
  {
   "cell_type": "code",
   "execution_count": null,
   "metadata": {},
   "outputs": [
    {
     "ename": "",
     "evalue": "",
     "output_type": "error",
     "traceback": [
      "\u001b[1;31mFailed to start the Kernel. \n",
      "\u001b[1;31mJupyter server crashed. Unable to connect. \n",
      "\u001b[1;31mError code from Jupyter: 1\n",
      "\u001b[1;31m/Users/irfansyahril/opt/anaconda3/lib/python3.9/site-packages/traitlets/traitlets.py:2202: FutureWarning: Supporting extra quotes around strings is deprecated in traitlets 5.0. You can use '/jfs60/a1_vibrations' instead of '\"/jfs60/a1_vibrations\"' if you require traitlets >=5.\n",
      "\u001b[1;31m  warn(\n",
      "\u001b[1;31m\n",
      "\u001b[1;31m[C 16:26:56.669 NotebookApp] Bad config encountered during initialization: No such notebook dir: ''/jfs60/a1_vibrations''. \n",
      "\u001b[1;31mView Jupyter <a href='command:jupyter.viewOutput'>log</a> for further details."
     ]
    }
   ],
   "source": [
    "#import all the modules needed\n",
    "import numpy as np\n",
    "import matplotlib.pyplot as plt\n",
    "import pickle\n",
    "from scipy import signal\n",
    "from scipy.fft import fft, fftfreq, ifft\n",
    "from scipy.signal import get_window"
   ]
  },
  {
   "cell_type": "code",
   "execution_count": null,
   "metadata": {},
   "outputs": [
    {
     "ename": "",
     "evalue": "",
     "output_type": "error",
     "traceback": [
      "\u001b[1;31mFailed to start the Kernel. \n",
      "\u001b[1;31mJupyter server crashed. Unable to connect. \n",
      "\u001b[1;31mError code from Jupyter: 1\n",
      "\u001b[1;31m/Users/irfansyahril/opt/anaconda3/lib/python3.9/site-packages/traitlets/traitlets.py:2202: FutureWarning: Supporting extra quotes around strings is deprecated in traitlets 5.0. You can use '/jfs60/a1_vibrations' instead of '\"/jfs60/a1_vibrations\"' if you require traitlets >=5.\n",
      "\u001b[1;31m  warn(\n",
      "\u001b[1;31m\n",
      "\u001b[1;31m[C 16:26:56.669 NotebookApp] Bad config encountered during initialization: No such notebook dir: ''/jfs60/a1_vibrations''. \n",
      "\u001b[1;31mView Jupyter <a href='command:jupyter.viewOutput'>log</a> for further details."
     ]
    }
   ],
   "source": [
    "#initial values \n",
    "time = 4 \n",
    "sampling_rate = 10001/30 \n",
    "#take the time response out of the pickle file (which saved the array values of the time response)\n",
    "def setting_up(): \n",
    "    initial_signal = []\n",
    "    with (open(\"t_response.pickle\", \"rb\")) as openfile:\n",
    "        while True:\n",
    "            try:\n",
    "                initial_signal.append(pickle.load(openfile))\n",
    "            except EOFError:\n",
    "                break\n",
    "\n",
    "    initial_signal_array = np.array(initial_signal)\n",
    "    #change the shape of the array so readable for matplotlib\n",
    "    initial_signal_reshaped = initial_signal_array.ravel()\n",
    "    return initial_signal_reshaped"
   ]
  },
  {
   "cell_type": "code",
   "execution_count": null,
   "metadata": {},
   "outputs": [
    {
     "ename": "",
     "evalue": "",
     "output_type": "error",
     "traceback": [
      "\u001b[1;31mFailed to start the Kernel. \n",
      "\u001b[1;31mJupyter server crashed. Unable to connect. \n",
      "\u001b[1;31mError code from Jupyter: 1\n",
      "\u001b[1;31m/Users/irfansyahril/opt/anaconda3/lib/python3.9/site-packages/traitlets/traitlets.py:2202: FutureWarning: Supporting extra quotes around strings is deprecated in traitlets 5.0. You can use '/jfs60/a1_vibrations' instead of '\"/jfs60/a1_vibrations\"' if you require traitlets >=5.\n",
      "\u001b[1;31m  warn(\n",
      "\u001b[1;31m\n",
      "\u001b[1;31m[C 16:26:56.669 NotebookApp] Bad config encountered during initialization: No such notebook dir: ''/jfs60/a1_vibrations''. \n",
      "\u001b[1;31mView Jupyter <a href='command:jupyter.viewOutput'>log</a> for further details."
     ]
    }
   ],
   "source": [
    "# Known Signal = sum of Sine Waves\n",
    "\n",
    "def generate_sin(A1,w1,A2,w2,A3,w3,t_max):\n",
    "    t_list_sin = np.linspace(0,t_max,37500)\n",
    "    sin_sum = A1*np.sin(w1*t_list_sin) + A2*np.sin(w2*t_list_sin) + A3*np.sin(w3*t_list_sin)\n",
    "\n",
    "    return sin_sum, t_list_sin"
   ]
  },
  {
   "cell_type": "code",
   "execution_count": null,
   "metadata": {},
   "outputs": [
    {
     "ename": "",
     "evalue": "",
     "output_type": "error",
     "traceback": [
      "\u001b[1;31mFailed to start the Kernel. \n",
      "\u001b[1;31mJupyter server crashed. Unable to connect. \n",
      "\u001b[1;31mError code from Jupyter: 1\n",
      "\u001b[1;31m/Users/irfansyahril/opt/anaconda3/lib/python3.9/site-packages/traitlets/traitlets.py:2202: FutureWarning: Supporting extra quotes around strings is deprecated in traitlets 5.0. You can use '/jfs60/a1_vibrations' instead of '\"/jfs60/a1_vibrations\"' if you require traitlets >=5.\n",
      "\u001b[1;31m  warn(\n",
      "\u001b[1;31m\n",
      "\u001b[1;31m[C 16:26:56.669 NotebookApp] Bad config encountered during initialization: No such notebook dir: ''/jfs60/a1_vibrations''. \n",
      "\u001b[1;31mView Jupyter <a href='command:jupyter.viewOutput'>log</a> for further details."
     ]
    }
   ],
   "source": [
    "#function to cut the signals to take away only the required time response (which is 4 second in this case)\n",
    "def choose_range(t, initial_signal): \n",
    "    no_of_samples = int((sampling_rate)*t)\n",
    "    x = np.linspace(0, t, no_of_samples)\n",
    "    cut_signal = (initial_signal[0:no_of_samples])\n",
    "    return cut_signal, no_of_samples"
   ]
  },
  {
   "cell_type": "code",
   "execution_count": null,
   "metadata": {},
   "outputs": [
    {
     "ename": "",
     "evalue": "",
     "output_type": "error",
     "traceback": [
      "\u001b[1;31mFailed to start the Kernel. \n",
      "\u001b[1;31mJupyter server crashed. Unable to connect. \n",
      "\u001b[1;31mError code from Jupyter: 1\n",
      "\u001b[1;31m/Users/irfansyahril/opt/anaconda3/lib/python3.9/site-packages/traitlets/traitlets.py:2202: FutureWarning: Supporting extra quotes around strings is deprecated in traitlets 5.0. You can use '/jfs60/a1_vibrations' instead of '\"/jfs60/a1_vibrations\"' if you require traitlets >=5.\n",
      "\u001b[1;31m  warn(\n",
      "\u001b[1;31m\n",
      "\u001b[1;31m[C 16:26:56.669 NotebookApp] Bad config encountered during initialization: No such notebook dir: ''/jfs60/a1_vibrations''. \n",
      "\u001b[1;31mView Jupyter <a href='command:jupyter.viewOutput'>log</a> for further details."
     ]
    }
   ],
   "source": [
    "#function to get the fft and also the frequency ranges\n",
    "def applying_fft(signal_analysed, samples): \n",
    "    \n",
    "    # Number of samples in normalized_tone\n",
    "    N = int (sampling_rate * time)\n",
    "\n",
    "    yf = fft(signal_analysed)\n",
    "    xf = fftfreq(N, 1 / sampling_rate)\n",
    "    return yf, xf\n",
    "    #not sure why they have different amplitude values "
   ]
  },
  {
   "cell_type": "code",
   "execution_count": null,
   "metadata": {},
   "outputs": [
    {
     "ename": "",
     "evalue": "",
     "output_type": "error",
     "traceback": [
      "\u001b[1;31mFailed to start the Kernel. \n",
      "\u001b[1;31mJupyter server crashed. Unable to connect. \n",
      "\u001b[1;31mError code from Jupyter: 1\n",
      "\u001b[1;31m/Users/irfansyahril/opt/anaconda3/lib/python3.9/site-packages/traitlets/traitlets.py:2202: FutureWarning: Supporting extra quotes around strings is deprecated in traitlets 5.0. You can use '/jfs60/a1_vibrations' instead of '\"/jfs60/a1_vibrations\"' if you require traitlets >=5.\n",
      "\u001b[1;31m  warn(\n",
      "\u001b[1;31m\n",
      "\u001b[1;31m[C 16:26:56.669 NotebookApp] Bad config encountered during initialization: No such notebook dir: ''/jfs60/a1_vibrations''. \n",
      "\u001b[1;31mView Jupyter <a href='command:jupyter.viewOutput'>log</a> for further details."
     ]
    }
   ],
   "source": [
    "#function to apply the selected window function\n",
    "def applying_window_function(window_function, signal_analysed, samples, t): \n",
    "    y = window_function*signal_analysed\n",
    "    x = np.linspace(0, t, samples)\n",
    "    return y,x"
   ]
  },
  {
   "cell_type": "code",
   "execution_count": null,
   "metadata": {},
   "outputs": [
    {
     "ename": "",
     "evalue": "",
     "output_type": "error",
     "traceback": [
      "\u001b[1;31mFailed to start the Kernel. \n",
      "\u001b[1;31mJupyter server crashed. Unable to connect. \n",
      "\u001b[1;31mError code from Jupyter: 1\n",
      "\u001b[1;31m/Users/irfansyahril/opt/anaconda3/lib/python3.9/site-packages/traitlets/traitlets.py:2202: FutureWarning: Supporting extra quotes around strings is deprecated in traitlets 5.0. You can use '/jfs60/a1_vibrations' instead of '\"/jfs60/a1_vibrations\"' if you require traitlets >=5.\n",
      "\u001b[1;31m  warn(\n",
      "\u001b[1;31m\n",
      "\u001b[1;31m[C 16:26:56.669 NotebookApp] Bad config encountered during initialization: No such notebook dir: ''/jfs60/a1_vibrations''. \n",
      "\u001b[1;31mView Jupyter <a href='command:jupyter.viewOutput'>log</a> for further details."
     ]
    }
   ],
   "source": [
    "#define all the functions for different windowing functions\n",
    "def bartlett (): \n",
    "    #set the no of samples for the windowing function\n",
    "    bartlett_input = int(time*sampling_rate)\n",
    "    #get window function\n",
    "    window = signal.windows.bartlett(bartlett_input)\n",
    "    #perform the fft, windowing and fft_windowing\n",
    "    initial_signal = setting_up()\n",
    "    signal_analysed, samples = choose_range(time, initial_signal)\n",
    "    x = np.linspace(0, time, samples)\n",
    "    y_fft, x_fft = applying_fft(signal_analysed, samples)\n",
    "    fig, (ax1, ax2) = plt.subplots(1, 2)\n",
    "    #plot for unwindowed response\n",
    "    fig.suptitle('bartlett unwindowed response')\n",
    "    ax1.plot(x, signal_analysed, color =\"blue\")\n",
    "    ax1.set_xlabel(\"time/s\")\n",
    "    ax1.set_ylabel(\"amplitude/m\")\n",
    "    ax2.plot(x_fft, np.abs(y_fft))\n",
    "    ax2.set_xlim([0, 5])\n",
    "    ax2.set_ylim([0, 0.1]) \n",
    "    ax2.set_xlabel(\"frequency/Hz\")\n",
    "    y_window, x_window =applying_window_function (window, signal_analysed, samples, time)\n",
    "    #plot for windowed response\n",
    "    fig, (ax3, ax4) = plt.subplots(1, 2)\n",
    "    fig.suptitle('bartlett windowed response')\n",
    "    ax3.plot(x_window, y_window, color =\"blue\")\n",
    "    ax3.set_xlabel(\"time/s\")\n",
    "    ax3.set_ylabel(\"amplitude/m\")\n",
    "    y_windowed_fft, x_windowed_fft = applying_fft(y_window, samples)\n",
    "    ax4.plot(x_windowed_fft, np.abs(y_windowed_fft))\n",
    "    ax4.set_xlim([0, 5])\n",
    "    ax4.set_ylim([0, 0.1]) \n",
    "    ax4.set_xlabel(\"frequency/Hz\")\n",
    "    plt.show()\n",
    "\n",
    "def hann (): \n",
    "    #set the no of samples for the windowing function\n",
    "    hann_input = int(time*sampling_rate)\n",
    "    #get window function\n",
    "    window = signal.windows.hann(hann_input)\n",
    "    #perform the fft, windowing and fft_windowing\n",
    "    initial_signal = setting_up()\n",
    "    signal_analysed, samples = choose_range(time, initial_signal)\n",
    "    x = np.linspace(0, time, samples)\n",
    "    y_fft, x_fft = applying_fft(signal_analysed, samples)\n",
    "    fig, (ax1, ax2) = plt.subplots(1, 2)\n",
    "    #plot for unwindowed response\n",
    "    fig.suptitle('hann unwindowed response')\n",
    "    ax1.plot(x, signal_analysed, color =\"blue\")\n",
    "    ax1.set_xlabel(\"time/s\")\n",
    "    ax1.set_ylabel(\"amplitude/m\")\n",
    "    ax2.plot(x_fft, np.abs(y_fft))\n",
    "    ax2.set_xlim([0, 5])\n",
    "    ax2.set_ylim([0, 0.1]) \n",
    "    ax2.set_xlabel(\"frequency/Hz\")\n",
    "    y_window, x_window =applying_window_function (window, signal_analysed, samples, time)\n",
    "    #plot for windowed response\n",
    "    fig, (ax3, ax4) = plt.subplots(1, 2)\n",
    "    fig.suptitle('hann windowed response')\n",
    "    ax3.plot(x_window, y_window, color =\"blue\")\n",
    "    ax3.set_xlabel(\"time/s\")\n",
    "    ax3.set_ylabel(\"amplitude/m\")\n",
    "    y_windowed_fft, x_windowed_fft = applying_fft(y_window, samples)\n",
    "    ax4.plot(x_windowed_fft, np.abs(y_windowed_fft))\n",
    "    ax4.set_xlim([0, 5])\n",
    "    ax4.set_ylim([0, 0.1]) \n",
    "    ax4.set_xlabel(\"frequency/Hz\")\n",
    "    plt.show()\n",
    "\n",
    "def hamming (): \n",
    "    #set the no of samples for the windowing function\n",
    "    hamming_input = int(time*sampling_rate)\n",
    "    #get window function\n",
    "    window = signal.windows.hamming(hamming_input)\n",
    "    #perform the fft, windowing and fft_windowing\n",
    "    initial_signal = setting_up()\n",
    "    signal_analysed, samples = choose_range(time, initial_signal)\n",
    "    x = np.linspace(0, time, samples)\n",
    "    y_fft, x_fft = applying_fft(signal_analysed, samples)\n",
    "    fig, (ax1, ax2) = plt.subplots(1, 2)\n",
    "    #plot for unwindowed response\n",
    "    fig.suptitle('hamming unwindowed response')\n",
    "    ax1.plot(x, signal_analysed, color =\"blue\")\n",
    "    ax1.set_xlabel(\"time/s\")\n",
    "    ax1.set_ylabel(\"amplitude/m\")\n",
    "    ax2.plot(x_fft, np.abs(y_fft))\n",
    "    ax2.set_xlim([0, 5])\n",
    "    ax2.set_ylim([0, 0.1]) \n",
    "    ax2.set_xlabel(\"frequency/Hz\")\n",
    "    y_window, x_window =applying_window_function (window, signal_analysed, samples, time)\n",
    "    #plot for windowed response\n",
    "    fig, (ax3, ax4) = plt.subplots(1, 2)\n",
    "    fig.suptitle('hamming windowed response')\n",
    "    ax3.plot(x_window, y_window, color =\"blue\")\n",
    "    ax3.set_xlabel(\"time/s\")\n",
    "    ax3.set_ylabel(\"amplitude/m\")\n",
    "    y_windowed_fft, x_windowed_fft = applying_fft(y_window, samples)\n",
    "    ax4.plot(x_windowed_fft, np.abs(y_windowed_fft))\n",
    "    ax4.set_xlim([0, 5])\n",
    "    ax4.set_ylim([0, 0.1]) \n",
    "    ax4.set_xlabel(\"frequency/Hz\")\n",
    "    plt.show()\n",
    "\n",
    "def flattop (): \n",
    "    #set the no of samples for the windowing function\n",
    "    flattop_input = int(time*sampling_rate)\n",
    "    #get window function\n",
    "    window = signal.windows.flattop(flattop_input)\n",
    "    #perform the fft, windowing and fft_windowing\n",
    "    initial_signal = setting_up()\n",
    "    signal_analysed, samples = choose_range(time, initial_signal)\n",
    "    x = np.linspace(0, time, samples)\n",
    "    y_fft, x_fft = applying_fft(signal_analysed, samples)\n",
    "    fig, (ax1, ax2) = plt.subplots(1, 2)\n",
    "    #plot for unwindowed response\n",
    "    fig.suptitle('flattop unwindowed response')\n",
    "    ax1.plot(x, signal_analysed, color =\"blue\")\n",
    "    ax1.set_xlabel(\"time/s\")\n",
    "    ax1.set_ylabel(\"amplitude/m\")\n",
    "    ax2.plot(x_fft, np.abs(y_fft))\n",
    "    ax2.set_xlim([0, 5])\n",
    "    ax2.set_ylim([0, 0.1]) \n",
    "    ax2.set_xlabel(\"frequency/Hz\")\n",
    "    y_window, x_window =applying_window_function (window, signal_analysed, samples, time)\n",
    "    #plot for windowed response\n",
    "    fig, (ax3, ax4) = plt.subplots(1, 2)\n",
    "    fig.suptitle('flattop windowed response')\n",
    "    ax3.plot(x_window, y_window, color =\"blue\")\n",
    "    ax3.set_xlabel(\"time/s\")\n",
    "    ax3.set_ylabel(\"amplitude/m\")\n",
    "    y_windowed_fft, x_windowed_fft = applying_fft(y_window, samples)\n",
    "    ax4.plot(x_windowed_fft, np.abs(y_windowed_fft))\n",
    "    ax4.set_xlim([0, 5])\n",
    "    ax4.set_ylim([0, 0.1]) \n",
    "    ax4.set_xlabel(\"frequency/Hz\")\n",
    "    plt.show()\n",
    "\n",
    "def exponential (): \n",
    "    #set the no of samples for the windowing function\n",
    "    exponential_input = int(time*sampling_rate)\n",
    "    tau2 = - (exponential_input-1) / np.log(0.01)\n",
    "    #get window function\n",
    "    window = signal.windows.exponential(exponential_input, 0, tau2, False)\n",
    "    #perform the fft, windowing and fft_windowing\n",
    "    initial_signal = setting_up()\n",
    "    signal_analysed, samples = choose_range(time, initial_signal)\n",
    "    x = np.linspace(0, time, samples)\n",
    "    y_fft, x_fft = applying_fft(signal_analysed, samples)\n",
    "    fig, (ax1, ax2) = plt.subplots(1, 2)\n",
    "    #plot for unwindowed response\n",
    "    fig.suptitle('exponential unwindowed response')\n",
    "    ax1.plot(x, signal_analysed, color =\"blue\")\n",
    "    ax1.set_xlabel(\"time/s\")\n",
    "    ax1.set_ylabel(\"amplitude/m\")\n",
    "    ax2.plot(x_fft, np.abs(y_fft))\n",
    "    ax2.set_xlim([0, 5])\n",
    "    ax2.set_ylim([0, 0.1]) \n",
    "    ax2.set_xlabel(\"frequency/Hz\")\n",
    "    y_window, x_window =applying_window_function (window, signal_analysed, samples, time)\n",
    "    #plot for windowed response\n",
    "    fig, (ax3, ax4) = plt.subplots(1, 2)\n",
    "    fig.suptitle('exponential windowed response')\n",
    "    ax3.plot(x_window, y_window, color =\"blue\")\n",
    "    ax3.set_xlabel(\"time/s\")\n",
    "    ax3.set_ylabel(\"amplitude/m\")\n",
    "    y_windowed_fft, x_windowed_fft = applying_fft(y_window, samples)\n",
    "    ax4.plot(x_windowed_fft, np.abs(y_windowed_fft))\n",
    "    ax4.set_xlim([0, 5])\n",
    "    ax4.set_ylim([0, 0.1]) \n",
    "    ax4.set_xlabel(\"frequency/Hz\")\n",
    "    plt.show()\n",
    "\n",
    "def blackman (): \n",
    "    #set the no of samples for the windowing function\n",
    "    blackman_input = int(time*sampling_rate)\n",
    "    #get window function\n",
    "    window = signal.windows.blackman(blackman_input)\n",
    "    #perform the fft, windowing and fft_windowing\n",
    "    initial_signal = setting_up()\n",
    "    signal_analysed, samples = choose_range(time, initial_signal)\n",
    "    x = np.linspace(0, time, samples)\n",
    "    y_fft, x_fft = applying_fft(signal_analysed, samples)\n",
    "    fig, (ax1, ax2) = plt.subplots(1, 2)\n",
    "    #plot for unwindowed response\n",
    "    \"\"\"fig.suptitle('blackman unwindowed response')\n",
    "    ax1.plot(x, signal_analysed, color =\"blue\")\n",
    "    ax1.set_xlabel(\"time/s\")\n",
    "    ax1.set_ylabel(\"amplitude/m\")\n",
    "    ax2.plot(x_fft, np.abs(y_fft))\n",
    "    ax2.set_xlim([0, 5])\n",
    "    ax2.set_ylim([0, 0.1]) \n",
    "    ax2.set_xlabel(\"frequency/Hz\")\"\"\"\n",
    "    y_window, x_window =applying_window_function (window, signal_analysed, samples, time)\n",
    "    #plot for windowed response\n",
    "    fig, (ax3, ax4) = plt.subplots(1, 2)\n",
    "    fig.suptitle('blackman windowed response')\n",
    "    ax3.plot(x_window, y_window, color =\"blue\")\n",
    "    ax3.set_xlabel(\"time/s\")\n",
    "    ax3.set_ylabel(\"amplitude/m\")\n",
    "    y_windowed_fft, x_windowed_fft = applying_fft(y_window, samples)\n",
    "    ax4.plot(x_windowed_fft, np.abs(y_windowed_fft))\n",
    "    ax4.set_xlim([0, 5])\n",
    "    ax4.set_ylim([0, 0.1]) \n",
    "    ax4.set_xlabel(\"frequency/Hz\")\n",
    "    plt.show()\n"
   ]
  },
  {
   "cell_type": "code",
   "execution_count": null,
   "metadata": {},
   "outputs": [
    {
     "ename": "",
     "evalue": "",
     "output_type": "error",
     "traceback": [
      "\u001b[1;31mFailed to start the Kernel. \n",
      "\u001b[1;31mJupyter server crashed. Unable to connect. \n",
      "\u001b[1;31mError code from Jupyter: 1\n",
      "\u001b[1;31m/Users/irfansyahril/opt/anaconda3/lib/python3.9/site-packages/traitlets/traitlets.py:2202: FutureWarning: Supporting extra quotes around strings is deprecated in traitlets 5.0. You can use '/jfs60/a1_vibrations' instead of '\"/jfs60/a1_vibrations\"' if you require traitlets >=5.\n",
      "\u001b[1;31m  warn(\n",
      "\u001b[1;31m\n",
      "\u001b[1;31m[C 16:26:56.669 NotebookApp] Bad config encountered during initialization: No such notebook dir: ''/jfs60/a1_vibrations''. \n",
      "\u001b[1;31mView Jupyter <a href='command:jupyter.viewOutput'>log</a> for further details."
     ]
    }
   ],
   "source": [
    "def main(): \n",
    "    hann()\n",
    "    hamming()\n",
    "    bartlett()\n",
    "    flattop()\n",
    "    exponential()\n",
    "    blackman()\n",
    "\n",
    "main()"
   ]
  },
  {
   "cell_type": "code",
   "execution_count": null,
   "metadata": {},
   "outputs": [
    {
     "ename": "",
     "evalue": "",
     "output_type": "error",
     "traceback": [
      "\u001b[1;31mFailed to start the Kernel. \n",
      "\u001b[1;31mJupyter server crashed. Unable to connect. \n",
      "\u001b[1;31mError code from Jupyter: 1\n",
      "\u001b[1;31m/Users/irfansyahril/opt/anaconda3/lib/python3.9/site-packages/traitlets/traitlets.py:2202: FutureWarning: Supporting extra quotes around strings is deprecated in traitlets 5.0. You can use '/jfs60/a1_vibrations' instead of '\"/jfs60/a1_vibrations\"' if you require traitlets >=5.\n",
      "\u001b[1;31m  warn(\n",
      "\u001b[1;31m\n",
      "\u001b[1;31m[C 16:26:56.669 NotebookApp] Bad config encountered during initialization: No such notebook dir: ''/jfs60/a1_vibrations''. \n",
      "\u001b[1;31mView Jupyter <a href='command:jupyter.viewOutput'>log</a> for further details."
     ]
    }
   ],
   "source": [
    "exponential()"
   ]
  },
  {
   "cell_type": "code",
   "execution_count": 11,
   "metadata": {},
   "outputs": [
    {
     "data": {
      "image/png": "[encoded data removed]",
      "text/plain": [
       "<Figure size 640x480 with 1 Axes>"
      ]
     },
     "metadata": {},
     "output_type": "display_data"
    }
   ],
   "source": [
    "#real earthquake data\n",
    "with open(\"dataset1.csv\") as file_name:\n",
    "    array = np.loadtxt(file_name, delimiter=\" \")\n",
    "\n",
    "\n",
    "array_t = np.linspace(0, 75, num=len(array))\n",
    "quake_array = []\n",
    "plt.plot(array_t, array)\n",
    "plt.show()"
   ]
  },
  {
   "cell_type": "code",
   "execution_count": null,
   "metadata": {},
   "outputs": [],
   "source": []
  }
 ],
 "metadata": {
  "kernelspec": {
   "display_name": "base",
   "language": "python",
   "name": "python3"
  },
  "language_info": {
   "codemirror_mode": {
    "name": "ipython",
    "version": 3
   },
   "file_extension": ".py",
   "mimetype": "text/x-python",
   "name": "python",
   "nbconvert_exporter": "python",
   "pygments_lexer": "ipython3",
   "version": "3.9.7"
  },
  "orig_nbformat": 4,
  "vscode": {
   "interpreter": {
    "hash": "1d2156d7aec53be3f3062a659c6a41a2ad850d6f8c5b3b3f868a3f1b3820ec07"
   }
  }
 },
 "nbformat": 4,
 "nbformat_minor": 2
}
